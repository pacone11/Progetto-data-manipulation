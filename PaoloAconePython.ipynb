{
 "cells": [
  {
   "cell_type": "code",
   "execution_count": 338,
   "metadata": {},
   "outputs": [],
   "source": [
    "# IMPORTAZIONE LIBRERIE NECESSARIE ALL'ANALISI\n",
    "import pandas as pd\n",
    "import numpy as np\n",
    "import matplotlib.pyplot as plt\n",
    "import seaborn as sns\n",
    "import plotly.express as px\n",
    "\n",
    "# IMPOSTAZIONE STILI E VISUALIZZAZIONE\n",
    "plt.style.use('ggplot')\n",
    "pd.set_option('display.max_columns', 200)"
   ]
  },
  {
   "cell_type": "markdown",
   "metadata": {},
   "source": [
    "# Importazione Dataset da CSV, Analisi iniziale e Pulizia dataframe"
   ]
  },
  {
   "cell_type": "code",
   "execution_count": 339,
   "metadata": {},
   "outputs": [],
   "source": [
    "# CARICO I DATI NEL DATAFRAME df\n",
    "df=pd.read_csv('winemag-data-130k-v2.csv') "
   ]
  },
  {
   "cell_type": "code",
   "execution_count": null,
   "metadata": {},
   "outputs": [],
   "source": [
    "df.head()      "
   ]
  },
  {
   "cell_type": "code",
   "execution_count": null,
   "metadata": {},
   "outputs": [],
   "source": [
    "df.info()"
   ]
  },
  {
   "cell_type": "markdown",
   "metadata": {},
   "source": [
    "DALLE PRIME INFO SI EVINCE CHE:\n",
    "- ABBIAMO 3 DATI DI TIPO NUMERICO, QUELLI RELATIVO AI PUNTI (INT), QUELLI RELATIVI AL PREZZO (FLOAT) E UNA COLONNA UNNAMED: 0 CHE SEMBREREBBE ESSERE LA DUPLICAZIONE DELL'INDICE. GLI ALTRI DATI SONO DI TIPO OGGETTO.\n",
    "- IN GENERALE NON CI SONO DATI PER CUI ANDREBBE CAMBIATA LA TIPOLOGIA\n",
    "- CI SONO ALCUNI VALORI NULLI CHE ANDIAMO AD ANALIZZARE PIù IN DETTAGLIO"
   ]
  },
  {
   "cell_type": "code",
   "execution_count": null,
   "metadata": {},
   "outputs": [],
   "source": [
    "# VADO A CONTROLLARE I VALORI NULLI\n",
    "df.isnull().sum().sort_values(ascending=False)"
   ]
  },
  {
   "cell_type": "markdown",
   "metadata": {},
   "source": [
    "SICCOME L'OBBIETTIVO FINALE E' QUELLO DI COSTRUIRE UN MARKETPLACE E SICCOME LA MAGGIOR PARTE DELLE ANALISI SARANNO BASATE SUI PREZZI\n",
    "- DECIDO DI SCARTARE TUTTE LE RIGHE DI VALORI IN CUI NON ABBIAMO IL PREZZO\n",
    "- VADO A DROPPARE ALCUNE COLONNE CHE NON RITENGO RILEVANTI AL MIO CASO, OVVERO: Unnamed: 0, region_2 (CHE HA PIù DELLA METà DEI VALORI NULLI), taster_twitter_handle, taster_name "
   ]
  },
  {
   "cell_type": "code",
   "execution_count": null,
   "metadata": {},
   "outputs": [],
   "source": [
    "# SCARTO LE RIGHE IN CUI PRICE è NULLO\n",
    "df=df[~df['price'].isna()]\n",
    "df.shape\n",
    "# SIAMO SCESI A 120975 RIGHE"
   ]
  },
  {
   "cell_type": "code",
   "execution_count": 344,
   "metadata": {},
   "outputs": [],
   "source": [
    "# DROPPO LE COLONNE NON RITENUTE UTILI ALL'ANALISI\n",
    "df=df.drop(['Unnamed: 0','region_2','taster_name','taster_twitter_handle'], axis=1)    "
   ]
  },
  {
   "cell_type": "code",
   "execution_count": null,
   "metadata": {},
   "outputs": [],
   "source": [
    "# CONTROLLO CHE NON CI SIANO DUPLICATI\n",
    "df[df.duplicated()].shape\n",
    "\n",
    "# VEDIAMO CHE CI SONO 9382 RIGHE DUPLICATE CHE ANDRò A RIMUOVERE DAL DATAFRAME PER AVERE UNA ANALISI PIù ACCURATA"
   ]
  },
  {
   "cell_type": "code",
   "execution_count": 346,
   "metadata": {},
   "outputs": [],
   "source": [
    "# RIMUOVO I DUPLICATI\n",
    "df=df.loc[~df.duplicated()]"
   ]
  },
  {
   "cell_type": "code",
   "execution_count": null,
   "metadata": {},
   "outputs": [],
   "source": [
    "df.shape\n",
    "# ORA ABBIAMO 111593 RIGHE DI DATI"
   ]
  },
  {
   "cell_type": "markdown",
   "metadata": {},
   "source": [
    "# Esplorazione feature"
   ]
  },
  {
   "cell_type": "markdown",
   "metadata": {},
   "source": [
    "CERCO DI OTTENERE UNA DESCRIZIONE PIù APPROFONDITA DI TUTTI I DATI.  \n",
    "\n",
    "IN PARTICOLARE MI INTERESSA INDAGARE SULLE CARATTERISTICHE 'PRICE' E 'POINTS' PER VEDERE SE I DATI SONO DISTRIBUITI EQUAMENTE E SE CI SONO DEGLI OUTLIER"
   ]
  },
  {
   "cell_type": "code",
   "execution_count": null,
   "metadata": {},
   "outputs": [],
   "source": [
    "\n",
    "df.describe(include='all')"
   ]
  },
  {
   "cell_type": "markdown",
   "metadata": {},
   "source": [
    "DAL METODO DESCRIBE RIESCO A TIRAR FUORI INFORMAZIONI PREZIOSE, IN PARTICOLARE I RISULTATI MI DICONO CHE:\n",
    "- CI SONO 42 DIVERSI PAESI PRESI IN ESAME:\n",
    "       IL PIU' POPOLARE è US CON OLTRE 50MILA RECENSIONI (QUASI LA METà)\n",
    "- CI SONO CIRCA 700 VARIETà DI VINO DIVERSE:\n",
    "       LA PIù POPOLARE è IL PINOT NOIR CON QUASI 12MILA DATI (PIù DI UN DECIMO DEL TOTALE)\n",
    "- CI SONO QUASI 16 MILA DIVERSE VIGNE:\n",
    "       LA PIù POPOLARE (WINES & WINEMAKERS) HA 204 RECENSIONI\n",
    "- I PUNTI VANNO DA 80 A 100 CON UNA MEDIA DI 88:\n",
    "       LA DEVIAZIONE STANDARD ABBASTANZA BASSA (3) CI SUGGERISCE CHE QUESTO DATO è BEN DISTRIBUITO\n",
    "- I PREZZI VANNO DA 4 A 3300 USD:\n",
    "       LA MEDIA è DI CIRCA 36 USD: \n",
    "          CON IL 75% DEI DATI SOTTO I 42 USD E UNA DEVIAZIONE STANDARD MOLTO ALTA (42) QUESTO CI FA INTUIRE CHE CI SONO DEGLI OUTLIER DI PREZZO\n"
   ]
  },
  {
   "cell_type": "code",
   "execution_count": null,
   "metadata": {},
   "outputs": [],
   "source": [
    "# APPROFONDISCO LA FEATURE 'POINTS' GRAFICANDO LA DISTRIBUZIONE DEI PUNTEGGI PER VEDERE QUALI SONO I PIù COMUNI\n",
    "plt.figure(figsize=(10, 6))\n",
    "sns.histplot(df['points'], bins=20, kde=True, color='skyblue')\n",
    "plt.title('Distribuzione dei punteggi (Points)')\n",
    "plt.xlabel('Punteggio')\n",
    "plt.ylabel('Frequenza')\n",
    "plt.show()"
   ]
  },
  {
   "cell_type": "markdown",
   "metadata": {},
   "source": [
    "DAL GRAFICO E DALLE STATISTICHE DEI PUNTEGGI SI EVINCE UNA DISTRIBUZIONE GAUSSIANA, IN CUI LA MAGGIOR PARTE DEI DATI HA VALORE TRA 86 E 91 PUNTI"
   ]
  },
  {
   "cell_type": "code",
   "execution_count": null,
   "metadata": {},
   "outputs": [],
   "source": [
    "# APPROFONDISCO LA FEATURE 'PRICE' GRAFICANDO LA DISTRIBUZIONE DEI PREZZI PER VEDERE QUALI SONO I PIù COMUNI\n",
    "Q99=df['price'].quantile(0.99)\n",
    "df_filtered_price=df[df['price'] < Q99] # per una visualizzazione più chiara escludo gli outlier maggiori filtrando i vini che hanno prezzo inferiore al 99% dei dati\n",
    "\n",
    "plt.figure(figsize=(10, 6))\n",
    "sns.histplot(df_filtered_price['price'], bins=30, kde=True, color='salmon')\n",
    "plt.title('Distribuzione dei prezzi (Price)')\n",
    "plt.xlabel('Prezzo')\n",
    "plt.ylabel('Frequenza')\n",
    "plt.show()"
   ]
  },
  {
   "cell_type": "markdown",
   "metadata": {},
   "source": [
    "DAL GRAFICO E DALLE STATISTICHE DEI PREZZI VEDIAMO COME LA MAGGIOR PARTE DEI DATI HA PREZZI COMPRESI TRA I 15 E I 40 USD, CHE SOLO L'1% DEI DATI HA PREZZO SUPERIORE A 160 USD (IN PARTICOLARE LA 'CODA' DEL GRAFICO INIZIA GIà INTORNO A 80 USD), RAFFORZANDO L'IDEA DEI POCHI OUTLIER DI PREZZO MA MOLTO ESTREMI."
   ]
  },
  {
   "cell_type": "code",
   "execution_count": null,
   "metadata": {},
   "outputs": [],
   "source": [
    "\n",
    "df_unfiltered_price=df[df['price'] > Q99]\n",
    "\n",
    "plt.figure(figsize=(10,6))\n",
    "sns.histplot(df_unfiltered_price['price'], bins=30, kde=True)"
   ]
  },
  {
   "cell_type": "code",
   "execution_count": null,
   "metadata": {},
   "outputs": [],
   "source": [
    "# INDIVIDUO MEDIA PUNTI E LA MEDIANA DEI PREZZI (COSI' DA NON TENERE CONTO DEGLI OUTLIER DI PREZZO) \n",
    "# PER CAPIRE VELOCEMENTE SE UN VINO HA UN BUON PREZZO ED E' DI BUONA QUALITA'\n",
    "points_mean=df['points'].mean()     \n",
    "price_median=df['price'].median()\n",
    "print(f'{points_mean}, {price_median}')"
   ]
  },
  {
   "cell_type": "code",
   "execution_count": 353,
   "metadata": {},
   "outputs": [],
   "source": [
    "Q1=df['price'].quantile(0.25)\n",
    "Q3=df['price'].quantile(0.75)\n"
   ]
  },
  {
   "cell_type": "code",
   "execution_count": 354,
   "metadata": {},
   "outputs": [],
   "source": [
    "# STABILISCO DELLE FASCE DI PREZZO\n",
    "df['price_range']=''\n",
    "df.loc[df['price']<= Q1,['price_range']]='cheap'     # FASCIA ECONOMICA--> NEL PRIMO QUARTILE\n",
    "df.loc[(df['price']>Q1) & (df['price']<=Q3),['price_range']]='medium'       # FASCIA MEDIA--> SECONDO E TERZO QUARTILE\n",
    "df.loc[(df['price']>Q3) & (df['price']<=Q99),['price_range']]='high'      # FASCIA ALTA--> NELL'ULTIMO QUARTILE\n",
    "df.loc[df['price']>Q99,['price_range']]='expensive'     # FASCIA DEGLI OUTLIER"
   ]
  },
  {
   "cell_type": "markdown",
   "metadata": {},
   "source": [
    "SICCOME IL MARKETPLACE VUOLE MIRARE AD OFFRIRE VINI DI QUALITà AL MIGLIOR PREZZO, VADO A SCARTARE DAL DATAFRAME TUTTI I DATI CHE HO CONSTATATO ESSERE DEGLI OUTLIER ESTREMI"
   ]
  },
  {
   "cell_type": "code",
   "execution_count": 355,
   "metadata": {},
   "outputs": [],
   "source": [
    "df_expensive=df[df['price_range']=='expensive']"
   ]
  },
  {
   "cell_type": "code",
   "execution_count": 356,
   "metadata": {},
   "outputs": [],
   "source": [
    "df=df[df['price_range']!='expensive']"
   ]
  },
  {
   "cell_type": "markdown",
   "metadata": {},
   "source": [
    "ANALIZZO LA DISTRIBUZIONE DEI VINI IN BASE AL PAESE DI PROVENIENZA 'COUNTRY', \n",
    "SICCOME HO TANTI DATI, PER RENDERE IL GRAFICO PIù LEGGIBILE PRENDO COME RIFERIMENTO I PRIMI 10 PAESI PER FREQUENZA"
   ]
  },
  {
   "cell_type": "code",
   "execution_count": null,
   "metadata": {},
   "outputs": [],
   "source": [
    "country_counts = df['country'].value_counts().head(10)  \n",
    "\n",
    "plt.figure(figsize=(12, 6))\n",
    "sns.barplot(x=country_counts.values, y=country_counts.index, palette='viridis')\n",
    "plt.title('Top 10 Paesi per Numero di Vini')\n",
    "plt.xlabel('Numero di Vini')\n",
    "plt.ylabel('Paese')\n",
    "plt.show()"
   ]
  },
  {
   "cell_type": "markdown",
   "metadata": {},
   "source": [
    "DAL GRAFICO VEDIAMO CHE US è IL COUNTRY PIù RAPPRESENTATO SEGUITO DA FRANCIA E ITALIA. \n",
    "  QUESTE 3 NAZIONI HANNO UNA FORTE INFLUENZA SUI RISULTATI DELLE STATISTICHE.\n",
    "\n",
    "MA QUALI SONO QUELLI CON I PUNTEGGI MIGLIORI?\n"
   ]
  },
  {
   "cell_type": "code",
   "execution_count": 285,
   "metadata": {},
   "outputs": [],
   "source": [
    "# INDIVIDUO I PAESI PIU' POPOLARI, QUELLI CHE HANNO ALMENO L'1% DI RECENSIONI TOTALI (CIRCA 1000) E LI SALVO IN UNA LISTA\n",
    "popular_countries=df['country'].value_counts().sort_values(ascending=False)\n",
    "popular_countries=popular_countries[popular_countries>1000]\n",
    "\n",
    "popular_countries_list=popular_countries.index.to_list()"
   ]
  },
  {
   "cell_type": "code",
   "execution_count": null,
   "metadata": {},
   "outputs": [],
   "source": [
    "# COSTRUISCO UN DF DEI SOLI PAESI PIù POPOLARI\n",
    "popular_countries_df=df[df['country'].isin(popular_countries_list)]\n",
    "\n",
    "# GRAFICO LA MEDIA PUNTI DEI PAESI PIù POPOLARI\n",
    "country_avg_points=popular_countries_df.groupby('country')['points'].agg(['count','mean']).sort_values(by='mean',ascending=False)\n",
    "\n",
    "plt.figure(figsize=(8,6))\n",
    "fig=px.scatter(\n",
    "    country_avg_points,\n",
    "    x=country_avg_points.index,\n",
    "    y='mean',\n",
    "    size='count',\n",
    "    color=country_avg_points.index,\n",
    "    size_max=50,\n",
    "    title='Media punteggio vini dei Paesi più popolari',\n",
    "    labels={'country':'Paese',\n",
    "            'mean':'Media punteggio',\n",
    "            'count':'Numero recensioni'},\n",
    ")\n",
    "fig.update_layout(title_x=0.5)  \n",
    "fig.show()"
   ]
  },
  {
   "cell_type": "code",
   "execution_count": null,
   "metadata": {},
   "outputs": [],
   "source": [
    "popular_countries_df.groupby('country')['points'].describe().sort_values(by='mean',ascending=False)"
   ]
  },
  {
   "cell_type": "markdown",
   "metadata": {},
   "source": [
    "Dal grafico si vede come la media punteggi va in generale da 86 a 91, i paesi con più recensioni hanno punteggi medi simili (88-89).\n",
    "Però i paesi con punteggi medi migliori sono Austria e Germania (90)"
   ]
  },
  {
   "cell_type": "markdown",
   "metadata": {},
   "source": [
    "ANALIZZO LA DISTRIBUZIONE DEI VINI IN BASE ALLA 'variety', \n",
    "ANCHE IN QUESTO CASO, PER RENDERE IL GRAFICO PIù LEGGIBILE PRENDO COME RIFERIMENTO LE PRIME 10 VARIETà PER FREQUENZA"
   ]
  },
  {
   "cell_type": "code",
   "execution_count": null,
   "metadata": {},
   "outputs": [],
   "source": [
    "df_variety_counts = df['variety'].value_counts().head(10)\n",
    "\n",
    "fig = px.bar(\n",
    "    df_variety_counts,\n",
    "    x=df_variety_counts.values,\n",
    "    y=df_variety_counts.index,\n",
    "    orientation='h',\n",
    "    title='Top 10 Varietà di Vino',\n",
    "    labels={'x': 'Numero di Vini', 'y': 'Varietà'},\n",
    "    color=df_variety_counts.values,\n",
    "    color_continuous_scale='Blues'\n",
    ")\n",
    "fig.show()"
   ]
  },
  {
   "cell_type": "markdown",
   "metadata": {},
   "source": [
    "ABBIAMO UNA PREVALENZA DI RECENSIONI SU VINI PINOT NOIR, SEGUITO DA CHARDONNAY, CABERNET SAUVIGNON E RED BLEND\n",
    "SICCOME, COME VISTO IN PRECEDENZA CI SONO PIù DI 700 VARIETà DIFFERENTI ANDRò A CONSIDERARE SOLO QUELLE PIù POPOLARI CHE DOVREBBERO CORRISPONDERE A PRODOTTI A PIù ALTA ROTAZIONE"
   ]
  },
  {
   "cell_type": "code",
   "execution_count": 289,
   "metadata": {},
   "outputs": [],
   "source": [
    "# INDIVIDUO LE VARIETA' DI VINI PIU' POPOLARI E LI SALVO IN UNA LISTA, VADO A CONSIDERARE SOLO QUELLE VARIETà PER LA QUALI ABBIAMO UN MINIMO DI 1000 DATI (circa 1% del totale)\n",
    "popular_varieties=df['variety'].value_counts().sort_values(ascending=False)\n",
    "popular_varieties=popular_varieties[popular_varieties>1000]\n",
    "\n",
    "popular_varieties_list=popular_varieties.index.to_list()"
   ]
  },
  {
   "cell_type": "markdown",
   "metadata": {},
   "source": [
    "\n",
    "Costruisco un dataframe con sole le varietà più popolari e vado a fare una classifica in base a quelle che hanno i punteggi medi migliori"
   ]
  },
  {
   "cell_type": "code",
   "execution_count": 290,
   "metadata": {},
   "outputs": [],
   "source": [
    "popular_varieties_df=df[df['variety'].isin(popular_varieties_list)]\n",
    "\n",
    "pop_var_avg_points=popular_varieties_df.groupby('variety')['points'].agg(['count','mean']).sort_values(by='mean', ascending=False)"
   ]
  },
  {
   "cell_type": "code",
   "execution_count": null,
   "metadata": {},
   "outputs": [],
   "source": [
    "plt.figure(figsize=(12,8))\n",
    "fig=px.scatter(\n",
    "    pop_var_avg_points,\n",
    "    x=pop_var_avg_points.index,\n",
    "    y='mean',\n",
    "    size='count',\n",
    "    color=pop_var_avg_points.index,\n",
    "    size_max=30,\n",
    "    title='Media punteggio vini dei Paesi più popolari',\n",
    "    labels={'variety':'Varietà Vino',\n",
    "            'mean':'Media punteggio',\n",
    "            'count':'Numero recensioni'},\n",
    ")\n",
    "fig.update_layout(title_x=0.5)  \n",
    "fig.show()"
   ]
  },
  {
   "cell_type": "markdown",
   "metadata": {},
   "source": [
    "Qui vediamo come le qualità più popolari (Pinot noir, Chardonnay, Cabernet-Sauvignon) non sono quelle con i punteggi medi migliori, bensì vini più ricercati come Nebbiolo e Gruner Veltiner con punteggio medio superiore ai 90."
   ]
  },
  {
   "cell_type": "markdown",
   "metadata": {},
   "source": [
    "# Relazione tra le Features"
   ]
  },
  {
   "cell_type": "markdown",
   "metadata": {},
   "source": [
    "CERCO SE C'E' CORRELAZIONE TRA PREZZO E PUNTEGGIO"
   ]
  },
  {
   "cell_type": "code",
   "execution_count": null,
   "metadata": {},
   "outputs": [],
   "source": [
    "#  CORRELAZIONE PREZZO-PUNTEGGIO (GENERALE)\n",
    "(df.groupby('points')['price'].mean()\n",
    " .plot(kind='line',\n",
    "       ylabel='average price',\n",
    "       xlabel='points',\n",
    "       title='Average price by points')\n",
    ")\n",
    "plt.show()"
   ]
  },
  {
   "cell_type": "markdown",
   "metadata": {},
   "source": [
    "In linea generale si vede un progressivo aumento del prezzo medio all'aumentare del punteggio"
   ]
  },
  {
   "cell_type": "code",
   "execution_count": null,
   "metadata": {},
   "outputs": [],
   "source": [
    "#  CORRELAZIONE PREZZO-PUNTEGGIO (PIU' SPECIFICA)\n",
    "fig=px.scatter(\n",
    "    df,\n",
    "    x='points',\n",
    "    y='price',\n",
    "    hover_name='designation',\n",
    "    hover_data=['designation','country','region_1','price','points'],\n",
    "    color='variety'\n",
    ")\n",
    "fig.update_layout(\n",
    "    title=\"Price distribution by points\",\n",
    "    title_x=0.5,  \n",
    "    yaxis_title=\"Price, USD\",\n",
    "    xaxis_title=\"Points\",\n",
    "    font=dict(size=12),  \n",
    "    template=\"plotly_dark\",  \n",
    ")\n",
    "fig.show()\n"
   ]
  },
  {
   "cell_type": "markdown",
   "metadata": {},
   "source": [
    "Nello specifico, si conferma la tendenza che all'aumentare del prezzo aumenta il punteggio, però si vede che ci sono panche molti vini con punteggio alto e prezzo contenuto, quindi con buon rapporto qualità-prezzo"
   ]
  },
  {
   "cell_type": "code",
   "execution_count": null,
   "metadata": {},
   "outputs": [],
   "source": [
    "# CORRELAZIONE PREZZO-PUNTEGGIO TRAMITE MATRICE DI CORRELAZIONE\n",
    "corr_mat=df[['points','price']].corr()\n",
    "corr_mat"
   ]
  },
  {
   "cell_type": "code",
   "execution_count": null,
   "metadata": {},
   "outputs": [],
   "source": [
    "# GRAFICO DELLA CORRELAZIONE CON HEATMAP\n",
    "plt.figure(figsize=(5,4))\n",
    "sns.heatmap(corr_mat, annot=True, cmap=\"coolwarm\", fmt=\".2f\")\n",
    "plt.title(\"Correlation Matrix\")\n",
    "plt.show()"
   ]
  },
  {
   "cell_type": "markdown",
   "metadata": {},
   "source": [
    "\n",
    "VALUTANDO TUTTI I RISULTATI OTTENUTI SI PUO' DIRE CHE C'E' UNA CORRELAZIONE TRA PREZZO E PUNTEGGIO MA NON FORTISSIMA.  \n",
    "IN PARTICOLARE DALLA MATRICE DI CORRELAZIONE OTTENIAMO 0.55 CHE E' UN VALORE ABBASTANZA INTERMEDIO CHE NON CI PERMETTE DI STABILIRE UNA FORTE PROPORZIONALITà DIRETTA"
   ]
  },
  {
   "cell_type": "markdown",
   "metadata": {},
   "source": [
    "INIZIO A FILTRARE IL DATAFRAME IN BASE A CIò CHE VOGLIO METTERE NEL MARKETPLACE"
   ]
  },
  {
   "cell_type": "markdown",
   "metadata": {},
   "source": [
    "IL MIO MARKETPLACE HA COME TARGET CONSUMATORI CHE SONO MOLTO ATTENTI ALLA QUALITà DEI VINI, PERCIò I DATAFRAME FILTRATI SONO SEMPRE ORDINATI PER PUNTEGGIO MAGGIORE, CON UN OCCHIO ANCHE AL PREZZO. SI TRATTA DI PERSONE DISPOSTE A PAGARE PER AVERE UN BUON PRODOTTO, MA NON A STRAPAGARE SE CI SONO ALTERNATIVE CON ALTRETTANTA BUONA QUALITà AD UN PREZZO PIù BASSO."
   ]
  },
  {
   "cell_type": "markdown",
   "metadata": {},
   "source": [
    "COSA VOGLIO METTERE NEL MARKETPLACE?\n",
    "\n",
    "- Varietà di vino piu popolari, perchè dovrebbero corrispondere ai prodotti più richiesti e quindi a più alta rotazione:\n",
    "    - 10 per ognuna delle 20 varietà più popolari con ottimo rapporto qualità-prezzo\n",
    "        (prezzo sotto la mediana e punteggio sopra la media)\n",
    "    - 10 per varietà economici (sotto i 10 USD), ma con punteggio buono\n",
    "    - 5 per varietà con punteggio più alto\n",
    "    "
   ]
  },
  {
   "cell_type": "code",
   "execution_count": null,
   "metadata": {},
   "outputs": [],
   "source": [
    "# Identificare vini con punteggi molto alti rispetto alla loro fascia di prezzo\n",
    "high_score_good_price=df[(df['points'] >= 95) & (df['price']<=price_median)].sort_values(by='points', ascending=False)\n",
    "high_score_good_price\n",
    "# SICCOME SONO SOLO 16 E SONO ALTAMENTE RILEVANTI, LI CONSIDERERò TUTTI NEL DATAFRAME FINALE"
   ]
  },
  {
   "cell_type": "code",
   "execution_count": null,
   "metadata": {},
   "outputs": [],
   "source": [
    "# ORDINO IL DATAFRAME DELLE VARIETà PIù POPOLARI PER PUNTI DECRESCENTI\n",
    "popular_varieties_df=popular_varieties_df.sort_values(by='points',ascending=False)"
   ]
  },
  {
   "cell_type": "markdown",
   "metadata": {},
   "source": [
    "A SECONDA DEL PREZZO VADO A SUDDIVIDERE ULTERIORMENTE IL DATAFRAME:  \n",
    "\n",
    "- PRENDO I PRIMI 10 PER PUNTEGGIO NELLA FASCIA 'CHEAP' E 'MEDIUM'\n",
    "- PRENDO I PRIMI 5 INDIPENDENTEMENTE DAL PREZZO, esclusa la fascia expensive contenente gli outlier"
   ]
  },
  {
   "cell_type": "code",
   "execution_count": 297,
   "metadata": {},
   "outputs": [],
   "source": [
    "pop_var_cheap=popular_varieties_df[popular_varieties_df['price_range']=='cheap'].groupby('variety').head(10).sort_values(by='variety')\n",
    "pop_var_medium=popular_varieties_df[popular_varieties_df['price_range']=='medium'].groupby('variety').head(10).sort_values(by='variety')\n",
    "pop_var_top5=popular_varieties_df.groupby('variety').head(5).sort_values(by='variety')\n",
    "# i 3 df così ottenuti andranno tutti nel df finale"
   ]
  },
  {
   "cell_type": "code",
   "execution_count": null,
   "metadata": {},
   "outputs": [],
   "source": [
    "# pop_var_cheap\n",
    "# pop_var_medium\n",
    "pop_var_top5"
   ]
  },
  {
   "cell_type": "markdown",
   "metadata": {},
   "source": [
    "PER AVERE UNA BUONA DISTRIBUZIONE PER 'COUNTRY' VADO A PRENDERE I PRIMI 10 VINI PER OGNUNA DELLE NAZIONI PIù POPOLARI"
   ]
  },
  {
   "cell_type": "code",
   "execution_count": 299,
   "metadata": {},
   "outputs": [],
   "source": [
    "# DF dei TOP 10 delle nazioni più popolari\n",
    "best_rated_best_countries=(df[df['country'].isin(popular_countries_list)]\n",
    " .sort_values(by='points',ascending=False)\n",
    " .groupby('country')\n",
    " .head(10)\n",
    " .sort_values(by='country')\n",
    " )\n",
    "#best_rated_best_countries\n",
    "\n",
    "# ANCHE QUESTO df ANDREMO AD AGGIUNGERLO AL df finale"
   ]
  },
  {
   "cell_type": "code",
   "execution_count": null,
   "metadata": {},
   "outputs": [],
   "source": [
    "# GRAFICO DEI MIGLIORI 10 VINI DELLE NAZIONI PIU' POPOLARI\n",
    "fig=px.scatter(\n",
    "    best_rated_best_countries,\n",
    "    x='variety',\n",
    "    y='points',\n",
    "    color='country',\n",
    "    width=1200,\n",
    "    height=600,\n",
    "    hover_name='designation',\n",
    "    hover_data={\n",
    "        'designation':True,\n",
    "        'country':True,\n",
    "        'points':True,\n",
    "        'price':True\n",
    "    },\n",
    "    size='points',\n",
    "    size_max=10\n",
    ")\n",
    "fig.update_layout(\n",
    "    title=\"Best Rated Wines by Country and Variety\",\n",
    "    title_x=0.5,  \n",
    "    xaxis_title=\"Wine Variety\",\n",
    "    yaxis_title=\"Points\",\n",
    "    font=dict(size=12),  \n",
    "    template=\"plotly_dark\",  \n",
    ")\n",
    "# Migliora la leggibilità delle etichette degli assi\n",
    "fig.update_xaxes(tickangle=45)  \n",
    "fig.update_yaxes(tickformat=\".1f\")  \n",
    "\n",
    "fig.show()"
   ]
  },
  {
   "cell_type": "markdown",
   "metadata": {},
   "source": [
    "VOGLIO ORA GARANTIRE UNA BUONA DISTRIBUZIONE DI TIPOLOGIE DI VINI BASATE SU PAROLE CHIAVI CHE COMUNEMENTE SI USANO PER DESCRIVERLI.  \n",
    "VADO A TROVARE NEL DATAFRAME QUEI VINI PER LA QUALE NELLA 'description' COMPARE LA PARTICOLARE KEYWORD RICERCATA"
   ]
  },
  {
   "cell_type": "code",
   "execution_count": 301,
   "metadata": {},
   "outputs": [],
   "source": [
    "# IMPOSTO DELLE PAROLE CHIAVI, TRA LE PIU' COMUNI, PER DESCIVERE I VINI\n",
    "keywords = [\n",
    "    'fruity','dry','aged','spicy','balanced','tannic','rich','intense'\n",
    "]"
   ]
  },
  {
   "cell_type": "code",
   "execution_count": null,
   "metadata": {},
   "outputs": [],
   "source": [
    "# Funzione che accetta come parametro una parola chiave (inserita come stringa tra apici) \n",
    "# e restituisce i grafici di una classifica:\n",
    "# - dei top 3 vini contenenti tale parola chiave nelle recensioni\n",
    "# - dei top 10 vini contenenti tale parola chiave e con buon rapporto qualità-prezzo\n",
    "\n",
    "def keywords_func(key,price_median, points_mean):\n",
    "    # Filtro in base alla parola chiave\n",
    "    key_df = df[df['description'].str.contains(key, case=False, na=False)]\n",
    "\n",
    "    # Rimuovo i duplicati\n",
    "    key_df = key_df[~key_df.duplicated(subset='designation')]\n",
    "\n",
    "    # Duplico il dataframe per separare l'analisi in: top e value for money\n",
    "    key_df_vfm=key_df\n",
    "\n",
    "    # Seleziono i top 3 risultati\n",
    "    key_df = key_df.sort_values(by='points', ascending=False).head(3)\n",
    "\n",
    "    # Filtro ulteriormente i dati per il vfm\n",
    "    key_df_vfm = key_df_vfm[(key_df_vfm['price'] < price_median) & (key_df_vfm['points'] > points_mean)]\n",
    "\n",
    "    # Seleziono i top 10 risultati vfm\n",
    "    key_df_vfm = key_df_vfm.sort_values(by='points', ascending=False).head(10)\n",
    "\n",
    "    # Creazione del grafico top\n",
    "    fig = px.bar(\n",
    "        key_df,\n",
    "        x='points',\n",
    "        y='designation',\n",
    "        orientation='h',\n",
    "        color='variety',\n",
    "        hover_name='designation',\n",
    "        hover_data={\n",
    "            'price', 'country', 'winery', 'region_1'\n",
    "        },\n",
    "        range_x=[80, 100],\n",
    "        title=f'Top 3 {key.capitalize()} Wines',\n",
    "        template=\"plotly_dark\"\n",
    "    )\n",
    "    fig.update_layout(\n",
    "        xaxis_title=\"Points\",\n",
    "        yaxis_title=\"Wine\",\n",
    "        yaxis=dict(autorange=\"reversed\"),\n",
    "        showlegend=True \n",
    "    )  \n",
    "    # Mostra il grafico top\n",
    "    fig.show()\n",
    "\n",
    "    # Creazione del grafico vfm\n",
    "    fig_vfm = px.bar(\n",
    "        key_df_vfm,\n",
    "        x='points',\n",
    "        y='designation',\n",
    "        orientation='h',\n",
    "        color='variety',\n",
    "        hover_name='designation',\n",
    "        hover_data={\n",
    "            'price', 'country', 'winery', 'region_1'\n",
    "        },\n",
    "        range_x=[80, 100],\n",
    "        title=f'Top 10 value for money {key.capitalize()} Wines',\n",
    "        template=\"plotly_dark\"\n",
    "    )\n",
    "    fig_vfm.update_layout(\n",
    "        xaxis_title=\"Points\",\n",
    "        yaxis_title=\"Wine\",\n",
    "        yaxis=dict(autorange=\"reversed\"),\n",
    "        showlegend=True  # Aggiungi legenda\n",
    "    )\n",
    "    #Mostra il grafico vfm\n",
    "    fig_vfm.show()\n",
    "    return key_df, key_df_vfm   # Return dei due dataframe ottenuti\n",
    "\n",
    "# Inizializzazione di un dizionario di 'dataframe per keyword', sia top che vfm\n",
    "keywords_df={}  \n",
    "keywords_df_vfm={}\n",
    "dfs_to_concat = []\n",
    "\n",
    "for i in keywords:      # per ogni parola contenuta nella lista 'keywords:\n",
    "    key_df,key_df_vfm=keywords_func(i,price_median, points_mean)    # esegue la funzione su ogni parola chiave e li assegna ai dataframe\n",
    "    # Aggiungo il dataframe dei vini che contengono quella keyword al dizionario di dataframe, sia top che vfm\n",
    "    keywords_df[i]=key_df    \n",
    "    keywords_df_vfm[i]=key_df_vfm\n",
    "    print(f'Best {i} wines: \\n')\n",
    "    print(keywords_df[i][['designation','country','region_1','points','price']])\n",
    "    print('\\n')\n",
    "    print(f'Best {i} wines value for money: \\n')\n",
    "    print(keywords_df_vfm[i][['designation','country','region_1','points','price']])\n",
    "    print('\\n')\n",
    "    dfs_to_concat.extend([keywords_df[i], keywords_df_vfm[i]])"
   ]
  },
  {
   "cell_type": "markdown",
   "metadata": {},
   "source": [
    "In generale si può vedere come le varietà dei vini selezionati per parole chiave cambiamìno a seconda della fascia di prezzo considerata."
   ]
  },
  {
   "cell_type": "markdown",
   "metadata": {},
   "source": [
    "VADO AD ANALIZZARE ANCHE LE VIGNE, EVIDENZIANDO QUELLE PER LE QUALI ABBIAMO PIù DATI E QUELLE CHE HANNO PUNTEGGI MIGLIORI"
   ]
  },
  {
   "cell_type": "code",
   "execution_count": 303,
   "metadata": {},
   "outputs": [],
   "source": [
    "# TROVO LE VIGNE PIU' POPOLARI E LE METTO IN UNA LISTA\n",
    "popular_wineries=df['winery'].value_counts().sort_values(ascending=False)\n",
    "popular_wineries=popular_wineries.head(20)\n",
    "popular_wineries_list=popular_wineries.index.to_list()"
   ]
  },
  {
   "cell_type": "code",
   "execution_count": 304,
   "metadata": {},
   "outputs": [],
   "source": [
    "# CREO UN DATAFRAME CON I DATI DELLE SOLE VIGNE PIù POPOLARI\n",
    "popular_wineries_df=df[df['winery'].isin(popular_wineries_list)].sort_values(by='points',ascending=False)"
   ]
  },
  {
   "cell_type": "code",
   "execution_count": null,
   "metadata": {},
   "outputs": [],
   "source": [
    "# E VADO POI A FILTRARLI IN BASE ALLA FASCIA DI PREZZO\n",
    "pop_wineries_low_cost=popular_wineries_df[popular_wineries_df['price_range']=='cheap'].groupby('winery').head(5).sort_values(by='winery')\n",
    "pop_wineries_low_cost"
   ]
  },
  {
   "cell_type": "code",
   "execution_count": null,
   "metadata": {},
   "outputs": [],
   "source": [
    "pop_wineries_mid_price=popular_wineries_df[(popular_wineries_df['price_range']=='medium')].groupby('winery').head(5).sort_values(by='winery')\n",
    "pop_wineries_mid_price"
   ]
  },
  {
   "cell_type": "code",
   "execution_count": null,
   "metadata": {},
   "outputs": [],
   "source": [
    "pop_winery_top=popular_wineries_df.groupby('winery').head(2).sort_values(by='winery')\n",
    "pop_winery_top\n",
    "\n",
    "# TUTTI E 3 I df COSì OTTENUTI SARANNO AGGIUNTI AL df FINALE"
   ]
  },
  {
   "cell_type": "markdown",
   "metadata": {},
   "source": [
    "Vorrei considerare anche le vigne meno popolari con punteggi molto alti e che quindi sfuggirebbero alla classificazione precedente, per andare ad includere dei prodotti più ricercati, per veri intenditori."
   ]
  },
  {
   "cell_type": "code",
   "execution_count": null,
   "metadata": {},
   "outputs": [],
   "source": [
    "# quali sono le vigne meno conosciute con punteggi ottimi?\n",
    "less_known_wineries=df[~df['winery'].isin(popular_wineries_list)]\n",
    "less_known_wineries=(less_known_wineries[less_known_wineries['points']>98]\n",
    "                     .sort_values(by='points')\n",
    "                     .groupby('winery').head(2))\n",
    "less_known_wineries\n",
    "\n",
    "# ANCHE QUESTO VERRà AGGIUNTO AL df FINALE\n"
   ]
  },
  {
   "cell_type": "markdown",
   "metadata": {},
   "source": [
    "COSTRUISCO IL DATAFRAME FINALE, CONCATENANDO TUTTI I RISULTATI FILTRATI DAL DF ORIGINARIO"
   ]
  },
  {
   "cell_type": "code",
   "execution_count": 310,
   "metadata": {},
   "outputs": [],
   "source": [
    "# COSTRUISCO IL DATAFRAME FINALE\n",
    "final_df=pd.concat([high_score_good_price,pop_var_cheap,pop_var_medium,pop_var_top5,best_rated_best_countries,pop_wineries_low_cost,pop_wineries_mid_price,pop_winery_top,less_known_wineries], ignore_index=True)"
   ]
  },
  {
   "cell_type": "code",
   "execution_count": 311,
   "metadata": {},
   "outputs": [],
   "source": [
    "# Concateno tutti i DataFrame in un unico Dataframe Finale\n",
    "final_df = pd.concat([final_df]+dfs_to_concat, ignore_index=True)"
   ]
  },
  {
   "cell_type": "code",
   "execution_count": null,
   "metadata": {},
   "outputs": [],
   "source": [
    "final_df"
   ]
  },
  {
   "cell_type": "markdown",
   "metadata": {},
   "source": [
    "ANALISI DATAFRAME FINALE"
   ]
  },
  {
   "cell_type": "markdown",
   "metadata": {},
   "source": [
    "Siccome la concatenazione potrebbe aver generato dei duplicati andiamo a fare una ulteriore analisi sul dataframe finale"
   ]
  },
  {
   "cell_type": "code",
   "execution_count": null,
   "metadata": {},
   "outputs": [],
   "source": [
    "final_df.shape"
   ]
  },
  {
   "cell_type": "code",
   "execution_count": null,
   "metadata": {},
   "outputs": [],
   "source": [
    "final_df.describe(include='all')"
   ]
  },
  {
   "cell_type": "code",
   "execution_count": null,
   "metadata": {},
   "outputs": [],
   "source": [
    "final_df.info()"
   ]
  },
  {
   "cell_type": "code",
   "execution_count": 365,
   "metadata": {},
   "outputs": [],
   "source": [
    "final_df=final_df[~final_df.duplicated()]   # ELIMINO I DUPLICATI"
   ]
  },
  {
   "cell_type": "code",
   "execution_count": null,
   "metadata": {},
   "outputs": [],
   "source": [
    "final_df.shape"
   ]
  },
  {
   "cell_type": "markdown",
   "metadata": {},
   "source": [
    "Nel Dataframe finale abbiamo 887 vini diversi!"
   ]
  },
  {
   "cell_type": "code",
   "execution_count": null,
   "metadata": {},
   "outputs": [],
   "source": [
    "# GRAFICO DI VISIONE GENERALE DEL DATAFRAME FINALE\n",
    "fig=px.scatter(\n",
    "    final_df,\n",
    "    x='points',\n",
    "    y='price',\n",
    "    color='variety',\n",
    "    hover_name='designation',\n",
    "    hover_data={\n",
    "        'designation',\n",
    "        'country',\n",
    "        'region_1',\n",
    "        'price',\n",
    "        'points',\n",
    "        'price_range',\n",
    "    }    \n",
    ")\n",
    "fig.update_layout(\n",
    "    title=\"Wine Marketplace\",\n",
    "    title_x=0.5,  \n",
    "    xaxis_title=\"Points\",\n",
    "    yaxis_title=\"Price\",\n",
    "    font=dict(size=12),  \n",
    "    template=\"plotly_dark\",  \n",
    ")\n",
    "fig.show()"
   ]
  },
  {
   "cell_type": "markdown",
   "metadata": {},
   "source": [
    "In generale si conferma la tendenza che all'aumentare del punteggio aumenta il prezzo, non mancano comunque prodotti di ottimo rapporto qualità prezzo"
   ]
  },
  {
   "cell_type": "code",
   "execution_count": null,
   "metadata": {},
   "outputs": [],
   "source": [
    "# Top Varietà per Punteggio Medio\n",
    "\n",
    "top_varieties = final_df.groupby('variety')['points'].mean().sort_values(ascending=False)\n",
    "plt.figure(figsize=(12, 16))\n",
    "sns.barplot(x=top_varieties.values, y=top_varieties.index, palette='coolwarm')\n",
    "plt.xlim(80,100)\n",
    "plt.xlabel('Punteggio Medio')\n",
    "plt.title('Top 10 Varietà con Miglior Punteggio Medio')\n",
    "plt.show()"
   ]
  },
  {
   "cell_type": "code",
   "execution_count": null,
   "metadata": {},
   "outputs": [],
   "source": [
    "fig = px.pie(\n",
    "    popular_countries_df, \n",
    "    names='country', \n",
    "    title='Distribuzione Percentuale dei Paesi nel Dataset Iniziale',\n",
    ")\n",
    "fig.show()"
   ]
  },
  {
   "cell_type": "code",
   "execution_count": null,
   "metadata": {},
   "outputs": [],
   "source": [
    "fig = px.pie(\n",
    "    final_df, \n",
    "    names='country', \n",
    "    title='Distribuzione Percentuale dei Paesi nel Dataset Finale',\n",
    ")\n",
    "fig.show()"
   ]
  },
  {
   "cell_type": "markdown",
   "metadata": {},
   "source": [
    "Dal confronto dei due grafici si evince che i paesi più frequenti nel dataframe finale (US, Francia e Italia) sono gli stessi del df iniziale.\n",
    "Cambiano le percentuali sia di questi paesi che degli altri (probabilmente perchè abbiamo rimosso i vini che entravano nella fascia di prezzo 'expensive' degli Outlier), in particolare vediamo come il Cile si prende il quarto posto scavalcando Spagna e Portogallo, avvicinandosi alla percentuale dei vini Italiani "
   ]
  },
  {
   "cell_type": "code",
   "execution_count": null,
   "metadata": {},
   "outputs": [],
   "source": [
    "df_expensive['country'].value_counts()"
   ]
  },
  {
   "cell_type": "code",
   "execution_count": null,
   "metadata": {},
   "outputs": [],
   "source": [
    "final_df['price'].describe()"
   ]
  },
  {
   "cell_type": "markdown",
   "metadata": {},
   "source": [
    "Faccio una ulteriore analisi su prezzi e punteggi per vedere come questi sono variati rispetto al df iniziale"
   ]
  },
  {
   "cell_type": "code",
   "execution_count": null,
   "metadata": {},
   "outputs": [],
   "source": [
    "final_df['price'].plot(kind='hist',bins=30, xlabel='Price', title='Distribuzione dei prezzi dei vini nel dataframe finale')"
   ]
  },
  {
   "cell_type": "code",
   "execution_count": 379,
   "metadata": {},
   "outputs": [],
   "source": [
    "# La fascia di prezzo più comune è rimasta pressochè invariata ma abbiamo abbattuto notevolmente il prezzo massimo "
   ]
  },
  {
   "cell_type": "code",
   "execution_count": null,
   "metadata": {},
   "outputs": [],
   "source": [
    "final_df['points'].describe()"
   ]
  },
  {
   "cell_type": "code",
   "execution_count": null,
   "metadata": {},
   "outputs": [],
   "source": [
    "final_df['points'].plot(kind='hist', bins=20)"
   ]
  },
  {
   "cell_type": "code",
   "execution_count": 380,
   "metadata": {},
   "outputs": [],
   "source": [
    "# La miglior frequenza di punteggio è ora tra 87 e 93 punti, che rappresenta un notevole aumento rispetto al df iniziale"
   ]
  },
  {
   "cell_type": "markdown",
   "metadata": {},
   "source": [
    "# CONCLUSIONI"
   ]
  },
  {
   "cell_type": "markdown",
   "metadata": {},
   "source": [
    "Come detto in precedenza, per la costruzione del Marketplace viene considerato un target di persone che amano i vini di qualità ma che sono attanti al prezzo.  \n",
    "\n",
    "Il dataframe finale, risultato concatenando tutti i subset ottenuti dall'analisi dei dati, contiene vini delle varietà e delle nazioni più popolari e più ricercate, vini delle vigne più apprezzate e più di nicchia e con le caratteristiche organolettiche più richieste.  \n",
    "In generale esso è basato su vini che hanno ottenuto punteggi migliori e con prezzi più o meno contenuti, il rapporto qualità prezzo è stato preso in considerazione in tutte le analisi a rafforzare le richieste del nostro target.  \n",
    "Dai grafici si vede come la fascia di prezzo più comune rimane pressochè invariata rispetto al df di partenza(10-40USD). E' stato abbattuto il prezzo massimo, che ora è di 160 USD rispetto a oltre 3000USD del df iniziale.\n",
    "Si vede una certa tendenza di aumento di punteggio all'aumentare del prezzo ma ci sono tantissime alternative con ottimo rapporto qualità-prezzo.\n",
    "Inoltre si puà notare come, rispetto al dataframe originario, la media punti sia aumentata e come la maggior parte dei prodotti (ovvero quelli compresi tra il primo e il terzo quartile) abbia punteggio tra 87 e 93 punti che rappresenta un notevole aumento della qualità dei vini presenti nel nostro dataframe.  \n",
    "\n",
    "Tutto questo ci va ad assicurare che il nostro marketplace contiene prodotti delle varietà, dei paesi e delle vigne più richieste. Contiene prodotti di alta qualità per ogni fascia di prezzo rilevante per il nostro target, includendo i prodotti a più alta rotazione e più conosciuti dai potenziali clienti, oltre che qualche chicca per veri intenditori."
   ]
  }
 ],
 "metadata": {
  "kernelspec": {
   "display_name": "Python 3",
   "language": "python",
   "name": "python3"
  },
  "language_info": {
   "codemirror_mode": {
    "name": "ipython",
    "version": 3
   },
   "file_extension": ".py",
   "mimetype": "text/x-python",
   "name": "python",
   "nbconvert_exporter": "python",
   "pygments_lexer": "ipython3",
   "version": "3.13.1"
  }
 },
 "nbformat": 4,
 "nbformat_minor": 2
}
